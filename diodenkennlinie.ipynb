{
  "nbformat": 4,
  "nbformat_minor": 0,
  "metadata": {
    "colab": {
      "provenance": []
    },
    "kernelspec": {
      "name": "python3",
      "display_name": "Python 3"
    },
    "language_info": {
      "name": "python"
    }
  },
  "cells": [
    {
      "cell_type": "code",
      "source": [
        "import numpy as np\n",
        "import matplotlib.pyplot as plt\n",
        "\n",
        "data = np.genfromtxt('kennlinie_1.csv', delimiter=',', skip_header=8)\n",
        "print(data)\n",
        "plt.plot()"
      ],
      "metadata": {
        "id": "dJVXFsa5bwus",
        "colab": {
          "base_uri": "https://localhost:8080/"
        },
        "outputId": "59f41207-ec3e-45b8-921b-90710b48216c"
      },
      "execution_count": 5,
      "outputs": [
        {
          "output_type": "stream",
          "name": "stdout",
          "text": [
            "[[ 0.00000e+00 -4.47000e-03  5.37779e-01  1.41088e-01]\n",
            " [ 1.00000e+00 -4.46000e-03  5.34605e-01  1.41088e-01]\n",
            " [ 2.00000e+00 -4.45000e-03  5.29843e-01  1.41088e-01]\n",
            " ...\n",
            " [ 1.59700e+03  1.15000e-02  5.48888e-01  2.58014e-01]\n",
            " [ 1.59800e+03  1.15100e-02  5.52062e-01  2.58014e-01]\n",
            " [ 1.59900e+03  1.15200e-02  5.56823e-01  2.58014e-01]]\n"
          ]
        }
      ]
    }
  ]
}