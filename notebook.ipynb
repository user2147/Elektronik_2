import numpy as np
import matplotlib.pyplot as plt

data = np.genfromtxt('kennlinie_1.csv', delimiter=',', skip_header=8)
print(data) 
plt.plot(data[:,1], data[:,2])